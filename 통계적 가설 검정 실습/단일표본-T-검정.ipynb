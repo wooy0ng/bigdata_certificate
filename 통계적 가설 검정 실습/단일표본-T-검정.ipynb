{
 "cells": [
  {
   "cell_type": "code",
   "execution_count": 1,
   "metadata": {},
   "outputs": [],
   "source": [
    "import pandas as pd\n",
    "\n",
    "X_test = pd.read_csv(\"../yemoonsaBigdata/datasets/supplement/trees.csv\")"
   ]
  },
  {
   "attachments": {},
   "cell_type": "markdown",
   "metadata": {},
   "source": [
    "필요한 패키지를 미리 불러오는 작업을 수행하자. \n",
    "\n",
    "pandas는 기본적으로 불러오도록 하며, 통계적 가설 검정에 사용되는 패키지는 scipy가 대표적이다. \n",
    "\n",
    "일부 기초 통계량을 계산하기 위해 math 패키지도 사용할 수 있으니 함께 불로오도록 하자."
   ]
  },
  {
   "cell_type": "code",
   "execution_count": 2,
   "metadata": {},
   "outputs": [],
   "source": [
    "import pandas as pd\n",
    "import scipy.stats as stats\n",
    "from math import sqrt"
   ]
  },
  {
   "attachments": {},
   "cell_type": "markdown",
   "metadata": {},
   "source": [
    "<br>\n",
    "\n",
    "### 문제\n",
    "\n",
    "주어진 데이터에는 블랙 체리나무 31그루의 둘레와 높이, 부피가 저장되어 있다.\n",
    "\n",
    "이 표본의 평균이 모평균과 일치하는지 단일표본 t-검정(One Sample t-Test)을 통해 답하고자 한다.\n",
    "\n",
    "가설은 아래와 같다.\n",
    "\n",
    "$H_{0} : \\overline{X}=75$  \n",
    "$H_{1} : \\overline{X} \\neq 75$\n",
    "\n",
    "1. 표본평균 $\\overline{X}$ 를 구하시오\n",
    "2. 위의 가설을 검정하기 위한 검정통계량을 구하시오. (반올림하여 소숫점 둘째자리까지 계산)\n",
    "3. 위의 통계량에 대한 p-값을 구하고(반올림하여 소숫점 넷째 자리까지 계산), 유의수준 0.05 이하에서 가설 검정의 결과를 채택/기각 중 하나로 선택하시오"
   ]
  },
  {
   "attachments": {},
   "cell_type": "markdown",
   "metadata": {},
   "source": [
    "<br>\n",
    "\n",
    "### 풀이\n",
    "\n",
    "본래 단일표본 T-검정은 검정하고자 하는 변수가 정규분포를 따라야 하므로, Kolmogorov - Smornov나 shapiro-wilk를 사용한 정규성 검정이 선행되야아 한다.\n",
    "\n",
    "그러나 문제에서 정규분포를 만족한다고 미리 가정했으므로, 따로 확인하지 않는다.\n",
    "\n",
    "만약 정규성을 띠지 않는다면 비모수적 방법인 부호 검정 혹은 윌콕슨 부호-순위 검정을 수행해야 한다."
   ]
  },
  {
   "cell_type": "code",
   "execution_count": 4,
   "metadata": {},
   "outputs": [
    {
     "data": {
      "text/html": [
       "<div>\n",
       "<style scoped>\n",
       "    .dataframe tbody tr th:only-of-type {\n",
       "        vertical-align: middle;\n",
       "    }\n",
       "\n",
       "    .dataframe tbody tr th {\n",
       "        vertical-align: top;\n",
       "    }\n",
       "\n",
       "    .dataframe thead th {\n",
       "        text-align: right;\n",
       "    }\n",
       "</style>\n",
       "<table border=\"1\" class=\"dataframe\">\n",
       "  <thead>\n",
       "    <tr style=\"text-align: right;\">\n",
       "      <th></th>\n",
       "      <th>Girth</th>\n",
       "      <th>Height</th>\n",
       "      <th>Volume</th>\n",
       "    </tr>\n",
       "  </thead>\n",
       "  <tbody>\n",
       "    <tr>\n",
       "      <th>0</th>\n",
       "      <td>8.3</td>\n",
       "      <td>70</td>\n",
       "      <td>10.3</td>\n",
       "    </tr>\n",
       "    <tr>\n",
       "      <th>1</th>\n",
       "      <td>8.6</td>\n",
       "      <td>65</td>\n",
       "      <td>10.3</td>\n",
       "    </tr>\n",
       "    <tr>\n",
       "      <th>2</th>\n",
       "      <td>8.8</td>\n",
       "      <td>63</td>\n",
       "      <td>10.2</td>\n",
       "    </tr>\n",
       "    <tr>\n",
       "      <th>3</th>\n",
       "      <td>10.5</td>\n",
       "      <td>72</td>\n",
       "      <td>16.4</td>\n",
       "    </tr>\n",
       "    <tr>\n",
       "      <th>4</th>\n",
       "      <td>10.7</td>\n",
       "      <td>81</td>\n",
       "      <td>18.8</td>\n",
       "    </tr>\n",
       "  </tbody>\n",
       "</table>\n",
       "</div>"
      ],
      "text/plain": [
       "   Girth  Height  Volume\n",
       "0    8.3      70    10.3\n",
       "1    8.6      65    10.3\n",
       "2    8.8      63    10.2\n",
       "3   10.5      72    16.4\n",
       "4   10.7      81    18.8"
      ]
     },
     "execution_count": 4,
     "metadata": {},
     "output_type": "execute_result"
    }
   ],
   "source": [
    "X_test.head()"
   ]
  },
  {
   "attachments": {},
   "cell_type": "markdown",
   "metadata": {},
   "source": [
    "#### 1."
   ]
  },
  {
   "cell_type": "code",
   "execution_count": 6,
   "metadata": {},
   "outputs": [
    {
     "name": "stdout",
     "output_type": "stream",
     "text": [
      "76.0\n"
     ]
    }
   ],
   "source": [
    "print(round(X_test['Height'].mean(), 2))"
   ]
  },
  {
   "attachments": {},
   "cell_type": "markdown",
   "metadata": {},
   "source": [
    "#### 2.\n",
    "\n",
    "단일표본 T-검정은 아래와 같은 함수를 통해 수행할 수 있다.\n",
    "\n",
    "검정을 진행하려는 데이터의 array 내지 pandas.series 형식의 데이터와 함께 검증하고자 하는 모평균의 값을 받는다."
   ]
  },
  {
   "cell_type": "code",
   "execution_count": 7,
   "metadata": {},
   "outputs": [
    {
     "data": {
      "text/plain": [
       "TtestResult(statistic=0.8738116490580545, pvalue=0.38916223357338076, df=30)"
      ]
     },
     "execution_count": 7,
     "metadata": {},
     "output_type": "execute_result"
    }
   ],
   "source": [
    "stats.ttest_1samp(X_test['Height'], 75)"
   ]
  },
  {
   "attachments": {},
   "cell_type": "markdown",
   "metadata": {},
   "source": [
    "반환값으로 `(t score, p value)`의 tuple 형태를 받아오며 `p value`가 0.05 미만일 경우 영가설($H_{0}$)을 기각한다.\n",
    "\n",
    "각각의 값을 t_score, p_value에 저장하고 문제가 요구하는 방식대로 출력하자.\n",
    "\n",
    "여기서 t_score는 0.87이 출력된다."
   ]
  },
  {
   "cell_type": "code",
   "execution_count": 8,
   "metadata": {},
   "outputs": [
    {
     "name": "stdout",
     "output_type": "stream",
     "text": [
      "0.87\n"
     ]
    }
   ],
   "source": [
    "t_score, p_value = stats.ttest_1samp(X_test['Height'], 75)\n",
    "print(round(t_score, 2))"
   ]
  },
  {
   "attachments": {},
   "cell_type": "markdown",
   "metadata": {},
   "source": [
    "#### 3.\n",
    "\n",
    "신뢰구간 95%에서 p_value가 0.05이상일 경우 유의하다고 보고 영가설을 채택하고,\n",
    "\n",
    "미만일 경우 영가설을 기각하고 대립가설을 채택한다.\n",
    "\n",
    "조건에 따라 출력하도록 if 문을 구성하면 다음과 같이 코드를 작성할 수 있다."
   ]
  },
  {
   "cell_type": "code",
   "execution_count": 10,
   "metadata": {},
   "outputs": [
    {
     "name": "stdout",
     "output_type": "stream",
     "text": [
      "0.3892\n",
      "채택\n"
     ]
    }
   ],
   "source": [
    "print(round(p_value, 4))\n",
    "\n",
    "if p_value >= 0.05:\n",
    "    print(\"채택\")\n",
    "else:\n",
    "    print(\"기각\")"
   ]
  }
 ],
 "metadata": {
  "kernelspec": {
   "display_name": "py39",
   "language": "python",
   "name": "python3"
  },
  "language_info": {
   "codemirror_mode": {
    "name": "ipython",
    "version": 3
   },
   "file_extension": ".py",
   "mimetype": "text/x-python",
   "name": "python",
   "nbconvert_exporter": "python",
   "pygments_lexer": "ipython3",
   "version": "3.9.16"
  },
  "orig_nbformat": 4
 },
 "nbformat": 4,
 "nbformat_minor": 2
}
