{
 "cells": [
  {
   "attachments": {},
   "cell_type": "markdown",
   "metadata": {},
   "source": [
    "### 문제\n",
    "\n",
    "주어진 데이터에는 기니피그 60마리와 치아 길이, 투여한 비타민 C 종류, 투여량이 저장되어 있다.\n",
    "\n",
    "오렌지 주스를 투여받은 기니피그의 치아 길이 평균이 아스코르브산을 투여받은 기니피그의 치아 길이 평균과 일치하는지 독립표본 t-검정을 통해 답하고자 한다.\n",
    "\n",
    "가설은 다음과 같다.\n",
    "\n",
    "$H_{0} : \\overline{X_{OJ}} = \\overline{X_{VC}}$  \n",
    "$H_{1} : \\overline{X_{OJ}} \\neq \\overline{X_{VC}}$\n",
    "\n",
    "- len : 치아의 길이\n",
    "- supp : 투여한 약제 (VC: 아스코르브산, OJ : 오렌지 주스)\n",
    "- dose : 투여량\n",
    "\n",
    "단, 데이터의 각 변수들은 정규분포를 만족하며, 두 그룹은 등분산을 띈다.\n",
    "\n",
    "<br>\n",
    "\n",
    "1. 표본평균 $\\overline{X_{OJ}}$, $\\overline{X_{VC}}$ 를 구하시오. (반올림하여 소숫점 둘째 자리까지 계산)\n",
    "2. 위의 가설을 검정하기 위한 검정통계량을 구하시오. (반올림하여 소숫점 둘째 자리까지 계산)\n",
    "3. 위의 통계량에 대한 p-값을 구하고(반올림하여 소숫점 넷째 자리까지 계산), 유의수준 0.05 하에서 가설검정의 결과를 채택 / 기각 중 하나로 선택하시오\n",
    "\n",
    ">> p value 값이 0.05를 넘으면 귀무가설을 채택하겠다는 의미"
   ]
  },
  {
   "cell_type": "code",
   "execution_count": 1,
   "metadata": {},
   "outputs": [],
   "source": [
    "import pandas as pd\n",
    "\n",
    "import scipy.stats as stat"
   ]
  },
  {
   "attachments": {},
   "cell_type": "markdown",
   "metadata": {},
   "source": [
    "#### 1."
   ]
  },
  {
   "cell_type": "code",
   "execution_count": 2,
   "metadata": {},
   "outputs": [],
   "source": [
    "a = pd.read_csv('../yemoonsaBigdata/datasets/supplement/toothgrowth.csv')"
   ]
  },
  {
   "cell_type": "code",
   "execution_count": 3,
   "metadata": {},
   "outputs": [
    {
     "data": {
      "text/html": [
       "<div>\n",
       "<style scoped>\n",
       "    .dataframe tbody tr th:only-of-type {\n",
       "        vertical-align: middle;\n",
       "    }\n",
       "\n",
       "    .dataframe tbody tr th {\n",
       "        vertical-align: top;\n",
       "    }\n",
       "\n",
       "    .dataframe thead th {\n",
       "        text-align: right;\n",
       "    }\n",
       "</style>\n",
       "<table border=\"1\" class=\"dataframe\">\n",
       "  <thead>\n",
       "    <tr style=\"text-align: right;\">\n",
       "      <th></th>\n",
       "      <th>len</th>\n",
       "      <th>supp</th>\n",
       "      <th>dose</th>\n",
       "    </tr>\n",
       "  </thead>\n",
       "  <tbody>\n",
       "    <tr>\n",
       "      <th>0</th>\n",
       "      <td>4.2</td>\n",
       "      <td>VC</td>\n",
       "      <td>0.5</td>\n",
       "    </tr>\n",
       "    <tr>\n",
       "      <th>1</th>\n",
       "      <td>11.5</td>\n",
       "      <td>VC</td>\n",
       "      <td>0.5</td>\n",
       "    </tr>\n",
       "    <tr>\n",
       "      <th>2</th>\n",
       "      <td>7.3</td>\n",
       "      <td>VC</td>\n",
       "      <td>0.5</td>\n",
       "    </tr>\n",
       "  </tbody>\n",
       "</table>\n",
       "</div>"
      ],
      "text/plain": [
       "    len supp  dose\n",
       "0   4.2   VC   0.5\n",
       "1  11.5   VC   0.5\n",
       "2   7.3   VC   0.5"
      ]
     },
     "execution_count": 3,
     "metadata": {},
     "output_type": "execute_result"
    }
   ],
   "source": [
    "a.head(3)"
   ]
  },
  {
   "cell_type": "code",
   "execution_count": 6,
   "metadata": {},
   "outputs": [],
   "source": [
    "a_VC = a[a['supp'] == 'VC']\n",
    "a_OJ = a[a['supp'] == 'OJ']"
   ]
  },
  {
   "cell_type": "code",
   "execution_count": 7,
   "metadata": {},
   "outputs": [],
   "source": [
    "X_VC = a_VC['len'].mean()\n",
    "X_OJ = a_OJ['len'].mean()"
   ]
  },
  {
   "cell_type": "code",
   "execution_count": 8,
   "metadata": {},
   "outputs": [
    {
     "name": "stdout",
     "output_type": "stream",
     "text": [
      "16.96\n",
      "20.66\n"
     ]
    }
   ],
   "source": [
    "print(round(X_VC, 2))\n",
    "print(round(X_OJ, 2))"
   ]
  },
  {
   "attachments": {},
   "cell_type": "markdown",
   "metadata": {},
   "source": [
    "#### 2.\n",
    "\n",
    "독립 표본 T-검정은 다음과 같은 함수를 통해 수행할 수 있다.\n",
    "\n",
    "검정을 진행하려는 각 그룹의 데이터의 array 내지 pandas.series 형식의 데이터를 받는다.\n",
    "\n",
    "등분산성을 만족하는지에 따라 equal_var 파라미터에 True 혹은 False 값은 선택하여 넣을 수 있다.\n",
    "\n",
    "현재의 경우에는 등분산성을 만족하기 때문에 True를 입력한다."
   ]
  },
  {
   "cell_type": "code",
   "execution_count": 9,
   "metadata": {},
   "outputs": [
    {
     "data": {
      "text/plain": [
       "Ttest_indResult(statistic=-1.91526826869527, pvalue=0.06039337122412849)"
      ]
     },
     "execution_count": 9,
     "metadata": {},
     "output_type": "execute_result"
    }
   ],
   "source": [
    "stat.ttest_ind(a_VC['len'], a_OJ['len'], equal_var=True)"
   ]
  },
  {
   "cell_type": "code",
   "execution_count": 10,
   "metadata": {},
   "outputs": [
    {
     "name": "stdout",
     "output_type": "stream",
     "text": [
      "-1.92\n"
     ]
    }
   ],
   "source": [
    "t_score, p_value = stat.ttest_ind(a_VC['len'], a_OJ['len'], equal_var=True)\n",
    "\n",
    "print(round(t_score, 2))"
   ]
  },
  {
   "attachments": {},
   "cell_type": "markdown",
   "metadata": {},
   "source": [
    "#### 3."
   ]
  },
  {
   "cell_type": "code",
   "execution_count": 11,
   "metadata": {},
   "outputs": [
    {
     "name": "stdout",
     "output_type": "stream",
     "text": [
      "0.0604\n",
      "채택\n"
     ]
    }
   ],
   "source": [
    "print(round(p_value, 4))\n",
    "\n",
    "if p_value >= 0.05:\n",
    "    print(\"채택\")\n",
    "else:\n",
    "    print(\"기각\")"
   ]
  },
  {
   "cell_type": "code",
   "execution_count": null,
   "metadata": {},
   "outputs": [],
   "source": []
  }
 ],
 "metadata": {
  "kernelspec": {
   "display_name": "py39",
   "language": "python",
   "name": "python3"
  },
  "language_info": {
   "codemirror_mode": {
    "name": "ipython",
    "version": 3
   },
   "file_extension": ".py",
   "mimetype": "text/x-python",
   "name": "python",
   "nbconvert_exporter": "python",
   "pygments_lexer": "ipython3",
   "version": "3.9.16"
  },
  "orig_nbformat": 4
 },
 "nbformat": 4,
 "nbformat_minor": 2
}
