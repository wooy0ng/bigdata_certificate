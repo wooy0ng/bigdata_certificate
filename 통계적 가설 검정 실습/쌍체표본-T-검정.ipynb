{
 "cells": [
  {
   "cell_type": "code",
   "execution_count": 3,
   "metadata": {},
   "outputs": [],
   "source": [
    "import scipy.stats as stats\n",
    "import pandas as pd"
   ]
  },
  {
   "attachments": {},
   "cell_type": "markdown",
   "metadata": {},
   "source": [
    "### 문제\n",
    "\n",
    "주어진 데이터에는 여러 지역에서 스프레이를 뿌리기 전에 측정한 곤충의 수와 스프레이를 뿌린 다음의 곤충의 수가 저장되어 있다.\n",
    "\n",
    "해당 스프레이가 구제 효과가 있는지(즉, 스프레이를 뿌린 뒤 곤충의 수가 감소했는지) 쌍체표본 t 검정을 통해 답하고자 한다.\n",
    "\n",
    "가설은 다음과 같다.\n",
    "\n",
    "$\\overline{\\mu_{d}}$ : (살충제를 뿌린 후의 곤충의 수 - 살충제를 뿌리기 전의 곤충의 수)의 평균  \n",
    "$H_{0} : \\overline{\\mu_{d}} \\ge 0 $  \n",
    "$H_{1} : \\overline{\\mu_{d}} < 0 $\n",
    "\n",
    "- before_spr : 살충제 뿌리기 전 곤충의 수\n",
    "- after_spr : 살충제 뿌린 뒤 곤충의 수\n",
    "\n",
    "단, (살충제를 뿌린 후의 곤충 수 - 살충제를 뿌리기 전의 곤충 수)는 정규성을 만족한다.\n",
    "\n",
    "\n",
    "1. $\\overline{\\mu_{d}}$ 의 표본 평균을 구하시오 (반올림하여 소숫점 둘째 자리까지 계산)\n",
    "2. 위의 가설을 검정하기 위한 검정통계량을 구하시오. (반올림하여 소숫점 둘째 자리까지 계산)\n",
    "3. 위의 통계량에 대한 p-값을 구하고(반올림하여 소숫점 넷째 자리까지 계산), 유의수준 0.05하에서 가설검정의 결과를 채택/기각 중 하나로 선택하시오."
   ]
  },
  {
   "cell_type": "code",
   "execution_count": 7,
   "metadata": {},
   "outputs": [
    {
     "data": {
      "text/html": [
       "<div>\n",
       "<style scoped>\n",
       "    .dataframe tbody tr th:only-of-type {\n",
       "        vertical-align: middle;\n",
       "    }\n",
       "\n",
       "    .dataframe tbody tr th {\n",
       "        vertical-align: top;\n",
       "    }\n",
       "\n",
       "    .dataframe thead th {\n",
       "        text-align: right;\n",
       "    }\n",
       "</style>\n",
       "<table border=\"1\" class=\"dataframe\">\n",
       "  <thead>\n",
       "    <tr style=\"text-align: right;\">\n",
       "      <th></th>\n",
       "      <th>before_spr</th>\n",
       "      <th>after_spr</th>\n",
       "    </tr>\n",
       "  </thead>\n",
       "  <tbody>\n",
       "    <tr>\n",
       "      <th>0</th>\n",
       "      <td>10</td>\n",
       "      <td>0</td>\n",
       "    </tr>\n",
       "    <tr>\n",
       "      <th>1</th>\n",
       "      <td>7</td>\n",
       "      <td>1</td>\n",
       "    </tr>\n",
       "    <tr>\n",
       "      <th>2</th>\n",
       "      <td>20</td>\n",
       "      <td>7</td>\n",
       "    </tr>\n",
       "  </tbody>\n",
       "</table>\n",
       "</div>"
      ],
      "text/plain": [
       "   before_spr  after_spr\n",
       "0          10          0\n",
       "1           7          1\n",
       "2          20          7"
      ]
     },
     "execution_count": 7,
     "metadata": {},
     "output_type": "execute_result"
    }
   ],
   "source": [
    "a = pd.read_csv('../yemoonsaBigdata/datasets/supplement/insectsprays.csv')\n",
    "a.head(3)"
   ]
  },
  {
   "attachments": {},
   "cell_type": "markdown",
   "metadata": {},
   "source": [
    "#### 1."
   ]
  },
  {
   "cell_type": "code",
   "execution_count": 8,
   "metadata": {},
   "outputs": [
    {
     "name": "stdout",
     "output_type": "stream",
     "text": [
      "-12.0\n"
     ]
    }
   ],
   "source": [
    "diff = a['after_spr'] - a['before_spr']\n",
    "diff_mean = diff.mean()\n",
    "\n",
    "print(round(diff_mean, 2))"
   ]
  },
  {
   "attachments": {},
   "cell_type": "markdown",
   "metadata": {},
   "source": [
    "#### 2.\n",
    "\n",
    "쌍체표본 t-검정은 다음 함수를 통해 수행할 수 있다.\n",
    "\n",
    "주요 파라미터로 alternative가 있는데, 귀무가설과 대립가설 간의 방향성을 설정하는 파라미터이다.\n",
    "\n",
    "`two-sided`, `less`, `greater`를 값으로 받으며, 아무것도 입력하지 않으면 기본값으로 `two-sided`를 가진다.\n",
    "\n",
    "이는 귀무가설이 \"표본평균의 차이는 0이다\"라는 가정하에, 대립가설이 \"표본 평균의 차이가 0이 아니다.\"라는 방향성을 가진다. 즉, 양측검정을 수행하게 된다.\n",
    "\n",
    "문제에서는 귀무가설로 \"스프레이가 효과가 없다\"가 세워졌으니 alternative에는 `greater`를 입력해준다."
   ]
  },
  {
   "cell_type": "code",
   "execution_count": 9,
   "metadata": {},
   "outputs": [
    {
     "data": {
      "text/plain": [
       "TtestResult(statistic=14.893263274163433, pvalue=5.113978478699233e-17, df=35)"
      ]
     },
     "execution_count": 9,
     "metadata": {},
     "output_type": "execute_result"
    }
   ],
   "source": [
    "stats.ttest_rel(a['before_spr'], a['after_spr'], alternative='greater')"
   ]
  },
  {
   "cell_type": "code",
   "execution_count": 10,
   "metadata": {},
   "outputs": [
    {
     "name": "stdout",
     "output_type": "stream",
     "text": [
      "14.89\n"
     ]
    }
   ],
   "source": [
    "t_score, p_value = stats.ttest_rel(a['before_spr'], a['after_spr'], alternative='greater')\n",
    "\n",
    "print(round(t_score, 2))"
   ]
  },
  {
   "cell_type": "code",
   "execution_count": 12,
   "metadata": {},
   "outputs": [
    {
     "name": "stdout",
     "output_type": "stream",
     "text": [
      "0.0\n",
      "기각\n"
     ]
    }
   ],
   "source": [
    "print(round(p_value, 4))\n",
    "\n",
    "if p_value >= 0.05:\n",
    "    print(\"채택\")\n",
    "else:\n",
    "    print(\"기각\")"
   ]
  },
  {
   "attachments": {},
   "cell_type": "markdown",
   "metadata": {},
   "source": [
    "<img width=\"659\" src=\"https://github.com/wooy0ng/wooy0ng/assets/37149278/6ad0f035-98bb-4b40-8663-9b024273d847\">\n"
   ]
  }
 ],
 "metadata": {
  "kernelspec": {
   "display_name": "py39",
   "language": "python",
   "name": "python3"
  },
  "language_info": {
   "codemirror_mode": {
    "name": "ipython",
    "version": 3
   },
   "file_extension": ".py",
   "mimetype": "text/x-python",
   "name": "python",
   "nbconvert_exporter": "python",
   "pygments_lexer": "ipython3",
   "version": "3.9.16"
  },
  "orig_nbformat": 4
 },
 "nbformat": 4,
 "nbformat_minor": 2
}
