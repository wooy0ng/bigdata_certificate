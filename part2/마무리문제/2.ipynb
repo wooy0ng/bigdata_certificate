{
 "cells": [
  {
   "cell_type": "code",
   "execution_count": 2,
   "metadata": {},
   "outputs": [],
   "source": [
    "import pandas as pd\n",
    "import numpy as np\n",
    "\n",
    "df = pd.read_csv('../yemoonsaBigdata/datasets/Part2/wine.csv')"
   ]
  },
  {
   "attachments": {},
   "cell_type": "markdown",
   "metadata": {},
   "source": [
    "<br>\n",
    "\n",
    "##### **1. Wine 데이터 세트에서 total_phenols 결측치를 제거하고 alcalinity_of_ash 변수의 결측치는 중앙값으로 대체한 후, alcalinity_of_ash 평균값을 계산하세요**"
   ]
  },
  {
   "cell_type": "code",
   "execution_count": 13,
   "metadata": {},
   "outputs": [
    {
     "data": {
      "text/plain": [
       "19.397546012269938"
      ]
     },
     "execution_count": 13,
     "metadata": {},
     "output_type": "execute_result"
    }
   ],
   "source": [
    "df_drop = df[~df['total_phenols'].isnull()]\n",
    "\n",
    "median = df_drop['alcalinity_of_ash'].median()\n",
    "df_drop.loc[:, 'alcalinity_of_ash'] = df_drop['alcalinity_of_ash'].fillna(median)\n",
    "df_drop['alcalinity_of_ash'].mean()"
   ]
  },
  {
   "attachments": {},
   "cell_type": "markdown",
   "metadata": {},
   "source": [
    "<br>\n",
    "\n",
    "##### **2. Wine 데이터 세트에서 alcohol 값이 alcohol 평균 값 이상이고, color_intensity 값이 color_intensity 평균 값 이상인 데이터만 남겼을 때, 가장 많은 class 값을 구하시오**"
   ]
  },
  {
   "cell_type": "code",
   "execution_count": 16,
   "metadata": {},
   "outputs": [
    {
     "data": {
      "text/plain": [
       "class\n",
       "0    57\n",
       "2    42\n",
       "1    10\n",
       "Name: count, dtype: int64"
      ]
     },
     "execution_count": 16,
     "metadata": {},
     "output_type": "execute_result"
    }
   ],
   "source": [
    "new_df = df[(df['alcohol'] >= df['alcohol'].mean()) | (df['color_intensity'] >= df['color_intensity'].mean())]\n",
    "\n",
    "new_df['class'].value_counts()"
   ]
  },
  {
   "attachments": {},
   "cell_type": "markdown",
   "metadata": {},
   "source": [
    "<br>\n",
    "\n",
    "##### **3. Wine 데이터 세트에서 class 1에 해당하는 데이터의 ash 평균값과 Wine 데이터 세트의 모든 결측치를 제거한 후의 ash 값의 평균값의 차이와 절댓값을 계산하시오**"
   ]
  },
  {
   "cell_type": "code",
   "execution_count": 25,
   "metadata": {},
   "outputs": [
    {
     "data": {
      "text/plain": [
       "0.1197"
      ]
     },
     "execution_count": 25,
     "metadata": {},
     "output_type": "execute_result"
    }
   ],
   "source": [
    "mean = df[df['class'] == 1]['ash'].mean()\n",
    "drop_mean = df.dropna()['ash'].mean()\n",
    "\n",
    "abs(round(mean - drop_mean, 4))"
   ]
  },
  {
   "attachments": {},
   "cell_type": "markdown",
   "metadata": {},
   "source": [
    "<br>\n",
    "\n",
    "##### **4. Wine 데이터 세트에서 alcohol 변수의 상위에서 20번째 값 alcohol을 오름차순으로 정렬했을 때 20번째에 위치한 값으로 상위 20개의 값을 변환한 후, proanthocyanins가 2 이하인 데이터를 추출하여 alcohol의 평균값을 계산하시오**"
   ]
  },
  {
   "cell_type": "code",
   "execution_count": 43,
   "metadata": {},
   "outputs": [
    {
     "data": {
      "text/plain": [
       "12.97"
      ]
     },
     "execution_count": 43,
     "metadata": {},
     "output_type": "execute_result"
    }
   ],
   "source": [
    "data_sorted = df.sort_values(by='alcohol', ascending=True)\n",
    "data_sorted = data_sorted.reset_index(drop=True)\n",
    "\n",
    "data_sorted.loc[0:19, 'alcohol'] = data_sorted.loc[19, 'alcohol']\n",
    "round(data_sorted[data_sorted['proanthocyanins'] <= 2]['alcohol'].mean(), 2)\n"
   ]
  },
  {
   "attachments": {},
   "cell_type": "markdown",
   "metadata": {},
   "source": [
    "<br>\n",
    "\n",
    "##### **5. Wine 데이터 세트에서 class 1에 해당하는 데이터의 proline 변수의 제 3사분위수와 제 1사분위수 차를 구하고, class 2에 해당하는 데이터의 proline 변수의 제 3사분위수와 제 1사분위수 차를 구하여 두 값 사이의 절대값을 계산하시오.**"
   ]
  },
  {
   "cell_type": "code",
   "execution_count": 44,
   "metadata": {},
   "outputs": [],
   "source": [
    "class1_q1, class1_q3 = df[df['class']==1]['proline'].quantile([0.25, 0.75])\n",
    "class2_q1, class2_q3 = df[df['class']==2]['proline'].quantile([0.25, 0.75])"
   ]
  },
  {
   "cell_type": "code",
   "execution_count": 46,
   "metadata": {},
   "outputs": [
    {
     "data": {
      "text/plain": [
       "68.5"
      ]
     },
     "execution_count": 46,
     "metadata": {},
     "output_type": "execute_result"
    }
   ],
   "source": [
    "abs((class1_q3 - class1_q1) - (class2_q3 - class2_q1))"
   ]
  }
 ],
 "metadata": {
  "kernelspec": {
   "display_name": "py39",
   "language": "python",
   "name": "python3"
  },
  "language_info": {
   "codemirror_mode": {
    "name": "ipython",
    "version": 3
   },
   "file_extension": ".py",
   "mimetype": "text/x-python",
   "name": "python",
   "nbconvert_exporter": "python",
   "pygments_lexer": "ipython3",
   "version": "3.9.16"
  },
  "orig_nbformat": 4
 },
 "nbformat": 4,
 "nbformat_minor": 2
}
