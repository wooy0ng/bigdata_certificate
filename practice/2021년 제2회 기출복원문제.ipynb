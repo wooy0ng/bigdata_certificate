{
 "cells": [
  {
   "attachments": {},
   "cell_type": "markdown",
   "metadata": {},
   "source": [
    "### 작업형 제1유형"
   ]
  },
  {
   "attachments": {},
   "cell_type": "markdown",
   "metadata": {},
   "source": [
    "#### 1."
   ]
  },
  {
   "cell_type": "code",
   "execution_count": 14,
   "metadata": {},
   "outputs": [
    {
     "name": "stdout",
     "output_type": "stream",
     "text": [
      "5.759386625\n"
     ]
    }
   ],
   "source": [
    "import pandas as pd\n",
    "\n",
    "df = pd.read_csv('../yemoonsaBigdata/datasets/Part3/201_boston.csv')\n",
    "\n",
    "sorted_df = df.sort_values(by='CRIM', ascending=False)\n",
    "sorted_df = sorted_df.reset_index(drop=True)\n",
    "top_10_crim = sorted_df.loc[9, 'CRIM']\n",
    "\n",
    "sorted_df.loc[0:9, 'CRIM'] = top_10_crim\n",
    "print(sorted_df[sorted_df['AGE'] >= 80]['CRIM'].mean())"
   ]
  },
  {
   "attachments": {},
   "cell_type": "markdown",
   "metadata": {},
   "source": [
    "#### 2."
   ]
  },
  {
   "cell_type": "code",
   "execution_count": 23,
   "metadata": {},
   "outputs": [
    {
     "name": "stdout",
     "output_type": "stream",
     "text": [
      "1.9751472916456692\n"
     ]
    }
   ],
   "source": [
    "import pandas as pd\n",
    "\n",
    "df = pd.read_csv('../yemoonsaBigdata/datasets/Part3/202_housing.csv')\n",
    "per = int(len(df) * 0.8)\n",
    "new_df = df.iloc[:per, :]\n",
    "\n",
    "prev_std = new_df['total_bedrooms'].std()\n",
    "\n",
    "med = new_df['total_bedrooms'].median()\n",
    "new_df.loc[:, 'total_bedrooms'] = new_df['total_bedrooms'].fillna(med)\n",
    "curr_std = new_df['total_bedrooms'].std()\n",
    "\n",
    "print(abs(prev_std - curr_std))\n",
    "\n"
   ]
  },
  {
   "attachments": {},
   "cell_type": "markdown",
   "metadata": {},
   "source": [
    "#### 3."
   ]
  },
  {
   "cell_type": "code",
   "execution_count": 29,
   "metadata": {},
   "outputs": [
    {
     "name": "stdout",
     "output_type": "stream",
     "text": [
      "5607295.0\n"
     ]
    }
   ],
   "source": [
    "import pandas as pd\n",
    "\n",
    "df = pd.read_csv('../yemoonsaBigdata/datasets/Part3/202_housing.csv')\n",
    "\n",
    "mean = df['population'].mean()\n",
    "std = df['population'].std()\n",
    "\n",
    "upper_outlier = mean + 1.5 * std\n",
    "lower_outlier = mean - 1.5 * std\n",
    "\n",
    "print(df[(df['population'] > upper_outlier) | (df['population'] < lower_outlier)]['population'].sum())"
   ]
  },
  {
   "attachments": {},
   "cell_type": "markdown",
   "metadata": {},
   "source": [
    "### 작업형 제2유형"
   ]
  },
  {
   "cell_type": "code",
   "execution_count": 47,
   "metadata": {},
   "outputs": [
    {
     "name": "stdout",
     "output_type": "stream",
     "text": [
      "      index    y_pred\n",
      "0      7007  0.492721\n",
      "1      9793  0.554909\n",
      "2      6593  0.507808\n",
      "3     10527  0.288298\n",
      "4      6914  0.438892\n",
      "...     ...       ...\n",
      "4395   3142  0.264118\n",
      "4396   6948  0.357000\n",
      "4397   7531  0.455983\n",
      "4398   8398  0.365105\n",
      "4399  10252  0.608149\n",
      "\n",
      "[4400 rows x 2 columns]\n"
     ]
    }
   ],
   "source": [
    "import pandas as pd\n",
    "import numpy as np\n",
    "\n",
    "X_train = pd.read_csv('../yemoonsaBigdata/datasets/Part3/204_x_train.csv')\n",
    "y_train = pd.read_csv('../yemoonsaBigdata/datasets/Part3/204_y_train.csv')\n",
    "X_test = pd.read_csv('../yemoonsaBigdata/datasets/Part3/204_x_test.csv')\n",
    "\n",
    "\n",
    "y_cols = ['Reached.on.Time_Y.N']\n",
    "num_cols = ['Customer_care_calls', 'Customer_rating', 'Cost_of_the_Product', 'Prior_purchases', 'Discount_offered', 'Weight_in_gms']\n",
    "cat_cols = ['Warehouse_block', 'Mode_of_Shipment', 'Product_importance', 'Gender']\n",
    "\n",
    "\n",
    "# 범주형 데이터 전처리\n",
    "from sklearn.preprocessing import LabelEncoder\n",
    "X = pd.concat([X_train, X_test])\n",
    "\n",
    "for col in cat_cols:\n",
    "    label_encoder = LabelEncoder()\n",
    "    label_encoder.fit(X[col])\n",
    "    \n",
    "    X_train[col] = label_encoder.transform(X_train[col])\n",
    "    X_test[col] = label_encoder.transform(X_test[col])\n",
    "    \n",
    "    \n",
    "# 학습, 검증 데이터셋 분리\n",
    "from sklearn.model_selection import train_test_split\n",
    "\n",
    "X_tr, X_val, y_tr, y_val = train_test_split(X_train[num_cols+cat_cols], y_train[y_cols], test_size=0.3, stratify=y_train[y_cols])\n",
    "\n",
    "\n",
    "# 수치형 데이터 전처리\n",
    "from sklearn.preprocessing import StandardScaler\n",
    "\n",
    "scaler = StandardScaler()\n",
    "scaler.fit(X_tr[num_cols])\n",
    "\n",
    "X_tr[num_cols] = scaler.transform(X_tr[num_cols])\n",
    "X_val[num_cols] = scaler.transform(X_val[num_cols])\n",
    "X_test[num_cols] = scaler.transform(X_test[num_cols])\n",
    "\n",
    "\n",
    "# 모델 학습\n",
    "from sklearn.ensemble import RandomForestClassifier\n",
    "from xgboost import XGBClassifier\n",
    "from sklearn.metrics import roc_auc_score\n",
    "\n",
    "'''\n",
    "model_rf = RandomForestClassifier()\n",
    "model_rf.fit(X_tr, y_tr.values.squeeze())\n",
    "y_pred = model_rf.predict_proba(X_val)\n",
    "print(roc_auc_score(y_val, y_pred[:, 1]))\n",
    "\n",
    "model_xgb = XGBClassifier()\n",
    "model_xgb.fit(X_tr, y_tr.values.squeeze())\n",
    "y_pred = model_xgb.predict_proba(X_val)\n",
    "print(roc_auc_score(y_val, y_pred[:, 1]))\n",
    "'''\n",
    "\n",
    "model_xgb1 = XGBClassifier(n_estimators=50, max_depth=5)\n",
    "model_xgb1.fit(X_tr, y_tr.values.squeeze())\n",
    "# y_pred = model_xgb1.predict_proba(X_val)\n",
    "# print(roc_auc_score(y_val, y_pred[:, 1]))\n",
    "\n",
    "\n",
    "y_pred = model_xgb1.predict_proba(X_test[num_cols+cat_cols])\n",
    "y_pred = y_pred[:, 1]\n",
    "\n",
    "\n",
    "result = pd.DataFrame({\n",
    "    'index': X_test['ID'],\n",
    "    'y_pred': y_pred\n",
    "})\n",
    "\n",
    "print(result)\n",
    "result.to_csv('../yemoonsaBigdata/res/4.csv', index=False)\n"
   ]
  }
 ],
 "metadata": {
  "kernelspec": {
   "display_name": "py39",
   "language": "python",
   "name": "python3"
  },
  "language_info": {
   "codemirror_mode": {
    "name": "ipython",
    "version": 3
   },
   "file_extension": ".py",
   "mimetype": "text/x-python",
   "name": "python",
   "nbconvert_exporter": "python",
   "pygments_lexer": "ipython3",
   "version": "3.9.16"
  },
  "orig_nbformat": 4
 },
 "nbformat": 4,
 "nbformat_minor": 2
}
