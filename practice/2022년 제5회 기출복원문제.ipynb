{
 "cells": [
  {
   "attachments": {},
   "cell_type": "markdown",
   "metadata": {},
   "source": [
    "### 작업형 제1유형"
   ]
  },
  {
   "attachments": {},
   "cell_type": "markdown",
   "metadata": {},
   "source": [
    "#### 1."
   ]
  },
  {
   "cell_type": "code",
   "execution_count": 8,
   "metadata": {},
   "outputs": [
    {
     "name": "stdout",
     "output_type": "stream",
     "text": [
      "119\n"
     ]
    }
   ],
   "source": [
    "import pandas as pd\n",
    "\n",
    "df = pd.read_csv('../yemoonsaBigdata/datasets/Part3/501_trash_bag.csv', encoding='cp949')\n",
    "new_df = df.loc[(df['용도'] == '음식물쓰레기') & (df['사용대상'] == '가정용')]\n",
    "\n",
    "print(int(new_df.loc[new_df['2L가격'] != 0, '2L가격'].mean()))"
   ]
  },
  {
   "attachments": {},
   "cell_type": "markdown",
   "metadata": {},
   "source": [
    "#### 2."
   ]
  },
  {
   "cell_type": "code",
   "execution_count": 15,
   "metadata": {},
   "outputs": [
    {
     "name": "stdout",
     "output_type": "stream",
     "text": [
      "28\n"
     ]
    }
   ],
   "source": [
    "df = pd.read_csv('../yemoonsaBigdata/datasets/Part3/502_bmi.csv')\n",
    "df['BMI'] = df['Weight'] / ((df['Height'] / 100) ** 2)\n",
    "\n",
    "normal = len(df.loc[(df['BMI'] >= 18.5) & (df['BMI'] < 23), :])\n",
    "non_normal = len(df.loc[(df['BMI'] >= 23) & (df['BMI'] < 25), :])\n",
    "\n",
    "print(abs(normal - non_normal))"
   ]
  },
  {
   "attachments": {},
   "cell_type": "markdown",
   "metadata": {},
   "source": [
    "#### 3."
   ]
  },
  {
   "cell_type": "code",
   "execution_count": 25,
   "metadata": {},
   "outputs": [
    {
     "name": "stdout",
     "output_type": "stream",
     "text": [
      "566\n"
     ]
    }
   ],
   "source": [
    "df = pd.read_csv('../yemoonsaBigdata/datasets/Part3/503_students.csv', encoding='cp949')\n",
    "\n",
    "# 순 전입학생수 = 총 전입학생수 - 총 전출학생수\n",
    "df['순 전입학생'] = df['총 전입학생'] - df['총 전출학생']\n",
    "\n",
    "# df.groupby('학교')['순 전입학생'].sum()\n",
    "\n",
    "print(df[df['학교'] == 'A']['전체 학생 수'].sum())"
   ]
  },
  {
   "attachments": {},
   "cell_type": "markdown",
   "metadata": {},
   "source": [
    "<br><br><br>\n",
    "\n",
    "### 작업형 제2유형"
   ]
  },
  {
   "cell_type": "code",
   "execution_count": 64,
   "metadata": {},
   "outputs": [
    {
     "name": "stdout",
     "output_type": "stream",
     "text": [
      "2467.1320201362946\n"
     ]
    }
   ],
   "source": [
    "import pandas as pd\n",
    "import numpy as np\n",
    "\n",
    "X_train = pd.read_csv('../yemoonsaBigdata/datasets/Part3/504_x_train.csv')\n",
    "y_train = pd.read_csv('../yemoonsaBigdata/datasets/Part3/504_y_train.csv')\n",
    "X_test = pd.read_csv('../yemoonsaBigdata/datasets/Part3/504_x_test.csv')\n",
    "\n",
    "\n",
    "remove_columns = ['id']\n",
    "num_columns = ['year', 'mileage', 'tax', 'mpg', 'engineSize']\n",
    "cat_columns = ['model', 'transmission', 'fuelType']\n",
    "columns_y = ['price']\n",
    "\n",
    "# 범주형 데이터 전처리\n",
    "from sklearn.preprocessing import LabelEncoder\n",
    "\n",
    "X = pd.concat([X_train, X_test])\n",
    "\n",
    "for col in cat_columns:\n",
    "    label_encoder = LabelEncoder()\n",
    "    \n",
    "    label_encoder.fit(X[col])\n",
    "    X_train[col] = label_encoder.transform(X_train[col])\n",
    "    X_test[col] = label_encoder.transform(X_test[col])    \n",
    "    \n",
    "\n",
    "# 학습, 검증 데이터셋으로 분리\n",
    "from sklearn.model_selection import train_test_split\n",
    "\n",
    "X_tr, X_val, y_tr, y_val = train_test_split(X_train[num_columns+cat_columns], y_train[columns_y], test_size=0.3)\n",
    "\n",
    "\n",
    "# 수치형 데이터 전처리\n",
    "from sklearn.preprocessing import StandardScaler\n",
    "\n",
    "scaler = StandardScaler()\n",
    "scaler.fit(X_tr[num_columns])\n",
    "\n",
    "X_tr[num_columns] = scaler.transform(X_tr[num_columns])\n",
    "X_val[num_columns] = scaler.transform(X_val[num_columns])\n",
    "X_test[num_columns] = scaler.transform(X_test[num_columns])\n",
    "\n",
    "\n",
    "\n",
    "# 학습\n",
    "from sklearn.ensemble import RandomForestRegressor\n",
    "from xgboost import XGBRegressor\n",
    "\n",
    "'''\n",
    "model_rf = RandomForestRegressor()\n",
    "model_rf.fit(X_tr, y_tr)\n",
    "\n",
    "model_xgb = XGBRegressor()\n",
    "model_xgb.fit(X_tr, y_tr)\n",
    "\n",
    "from sklearn.metrics import mean_squared_error\n",
    "\n",
    "pred_rf = model_rf.predict(X_val)\n",
    "rmse_rf = mean_squared_error(y_val, pred_rf) ** 0.5\n",
    "print(rmse_rf)\n",
    "\n",
    "pred_rf = model_xgb.predict(X_val)\n",
    "rmse_rf = mean_squared_error(y_val, pred_rf) ** 0.5\n",
    "print(rmse_rf)\n",
    "'''\n",
    "\n",
    "\n",
    "# 하이퍼 파라미터\n",
    "from sklearn.metrics import mean_squared_error\n",
    "\n",
    "# model_xgb1 = XGBRegressor(n_estimators=50, max_depth=5)\n",
    "# model_xgb1.fit(X_tr[num_columns + cat_columns], y_tr)\n",
    "# pred_xgb1 = model_xgb1.predict(X_val)\n",
    "# rmse_xgb1 = mean_squared_error(y_val, pred_xgb1) ** 0.5\n",
    "# print(rmse_xgb1)\n",
    "\n",
    "\n",
    "# model_xgb2 = XGBRegressor(n_estimators=50, max_depth=10)\n",
    "# model_xgb2.fit(X_tr, y_tr)\n",
    "# pred_xgb2 = model_xgb2.predict(X_val)\n",
    "# rmse_xgb2 = mean_squared_error(y_val, pred_xgb2) ** 0.5\n",
    "# print(rmse_xgb2)\n",
    "\n",
    "\n",
    "model_xgb3 = XGBRegressor(n_estimators=100, max_depth=5)\n",
    "model_xgb3.fit(X_tr, y_tr)\n",
    "pred_xgb3 = model_xgb3.predict(X_val)\n",
    "rmse_xgb3 = mean_squared_error(y_val, pred_xgb3) ** 0.5\n",
    "print(rmse_xgb3)\n",
    "\n",
    "\n",
    "# model_xgb4 = XGBRegressor(n_estimators=100, max_depth=10)\n",
    "# model_xgb4.fit(X_tr, y_tr)\n",
    "# pred_xgb4 = model_xgb4.predict(X_val)\n",
    "# rmse_xgb4 = mean_squared_error(y_val, pred_xgb4) ** 0.5\n",
    "# print(rmse_xgb4)\n",
    "\n",
    "\n",
    "pred = model_xgb3.predict(X_test[num_columns+cat_columns])\n",
    "result = pd.DataFrame({\n",
    "    'id': X_test['id'],\n",
    "    'price': pred\n",
    "})\n",
    "\n",
    "result.to_csv('../yemoonsaBigdata/res/1.csv', index=False)\n"
   ]
  }
 ],
 "metadata": {
  "kernelspec": {
   "display_name": "py39",
   "language": "python",
   "name": "python3"
  },
  "language_info": {
   "codemirror_mode": {
    "name": "ipython",
    "version": 3
   },
   "file_extension": ".py",
   "mimetype": "text/x-python",
   "name": "python",
   "nbconvert_exporter": "python",
   "pygments_lexer": "ipython3",
   "version": "3.9.16"
  },
  "orig_nbformat": 4
 },
 "nbformat": 4,
 "nbformat_minor": 2
}
