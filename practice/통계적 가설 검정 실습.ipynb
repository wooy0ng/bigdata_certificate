{
 "cells": [
  {
   "attachments": {},
   "cell_type": "markdown",
   "metadata": {},
   "source": [
    "### 단일표본 T-검정 실습"
   ]
  },
  {
   "cell_type": "code",
   "execution_count": 5,
   "metadata": {},
   "outputs": [
    {
     "name": "stdout",
     "output_type": "stream",
     "text": [
      "76.0\n",
      "0.8738116490580545\n",
      "0.38916223357338076\n",
      "채택\n"
     ]
    }
   ],
   "source": [
    "import scipy.stats as stats\n",
    "import numpy as np\n",
    "import pandas as pd\n",
    "\n",
    "df = pd.read_csv('../yemoonsaBigdata/datasets/supplement/trees.csv')\n",
    "\n",
    "# 1) 표본 평균을 구하시오\n",
    "print(df['Height'].mean())\n",
    "\n",
    "# 2) 위의 가설을 검정하기 위한 검정통계량을 구하시오\n",
    "# ttest_1samp\n",
    "\n",
    "t_score, p_value = stats.ttest_1samp(df['Height'], 75)\n",
    "print(t_score)\n",
    "\n",
    "# 3) p-값을 구하고 유의수준 0.05 하에서 가설 검정의 결과를 채택/기각 중 하나로 선택하세요\n",
    "print(p_value)\n",
    "if p_value >= 0.05:\n",
    "    print(\"채택\")\n",
    "else:\n",
    "    print(\"기각\")\n"
   ]
  },
  {
   "attachments": {},
   "cell_type": "markdown",
   "metadata": {},
   "source": [
    "<br><br><br>\n",
    "\n",
    "### 독립표본 T-검정 실습"
   ]
  },
  {
   "cell_type": "code",
   "execution_count": 15,
   "metadata": {},
   "outputs": [
    {
     "name": "stdout",
     "output_type": "stream",
     "text": [
      "20.66\n",
      "16.96\n",
      "1.91526826869527\n",
      "0.06\n",
      "채택\n"
     ]
    }
   ],
   "source": [
    "import scipy.stats as stats\n",
    "import pandas as pd\n",
    "\n",
    "df = pd.read_csv('../yemoonsaBigdata/datasets/supplement/toothgrowth.csv')\n",
    "df_OJ = df.loc[df['supp'] == 'OJ', :]\n",
    "df_VC = df.loc[df['supp'] == 'VC', :]\n",
    "\n",
    "# 1) 표본평균을 계산하시오\n",
    "print(round(df_OJ['len'].mean(), 2))\n",
    "print(round(df_VC['len'].mean(), 2))\n",
    "\n",
    "# 2) 위의 가설을 검증하기 위한 검정통계량을 구하시오\n",
    "# levene 등분산성 확인 \n",
    "# ttest_ind\n",
    "\n",
    "# print(stats.levene(df_OJ['len'], df_VC['len']))   # pvalue = 0.2751764616144053\n",
    "\n",
    "t_score, p_value = stats.ttest_ind(df_OJ['len'], df_VC['len'], equal_var=True)\n",
    "print(t_score)\n",
    "\n",
    "\n",
    "# 3) p-값을 구하고 유의수준 0.05 하에서 가설 검정의 결과를 채택/기각 중 하나로 선택하시오\n",
    "print(round(p_value, 2))\n",
    "\n",
    "if p_value >= 0.05:\n",
    "    print(\"채택\")\n",
    "else:\n",
    "    print(\"기각\")\n"
   ]
  },
  {
   "attachments": {},
   "cell_type": "markdown",
   "metadata": {},
   "source": [
    "<br><br><br>\n",
    "\n",
    "\n",
    "### 쌍체표본 T-검정 실습"
   ]
  },
  {
   "cell_type": "code",
   "execution_count": 22,
   "metadata": {},
   "outputs": [
    {
     "name": "stdout",
     "output_type": "stream",
     "text": [
      "-12.0\n",
      "14.89\n",
      "0.0\n",
      "기각\n"
     ]
    }
   ],
   "source": [
    "import scipy.stats as stats\n",
    "import pandas as pd\n",
    "import numpy as np\n",
    "\n",
    "\n",
    "df = pd.read_csv('../yemoonsaBigdata/datasets/supplement/insectsprays.csv')\n",
    "\n",
    "# 1) 표본 평균을 구하시오\n",
    "diff_df = df['after_spr'] - df['before_spr']\n",
    "print(diff_df.mean())\n",
    "\n",
    "\n",
    "# 2) 검정 통계량을 구하시오\n",
    "# ttest_rel\n",
    "t_score, p_value = stats.ttest_rel(df['before_spr'], df['after_spr'], alternative='greater')\n",
    "print(round(t_score, 2))\n",
    "\n",
    "# 3) p-값을 구하고 유의수준 0.05하에서 가설검정의 결과를 채택 / 기각 중 하나로 선택하세요\n",
    "print(round(p_value, 4))\n",
    "if p_value >= 0.05:\n",
    "    print(\"채택\")\n",
    "else:\n",
    "    print(\"기각\")\n"
   ]
  }
 ],
 "metadata": {
  "kernelspec": {
   "display_name": "py39",
   "language": "python",
   "name": "python3"
  },
  "language_info": {
   "codemirror_mode": {
    "name": "ipython",
    "version": 3
   },
   "file_extension": ".py",
   "mimetype": "text/x-python",
   "name": "python",
   "nbconvert_exporter": "python",
   "pygments_lexer": "ipython3",
   "version": "3.9.16"
  },
  "orig_nbformat": 4
 },
 "nbformat": 4,
 "nbformat_minor": 2
}
